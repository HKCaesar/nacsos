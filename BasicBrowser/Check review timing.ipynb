{
 "cells": [
  {
   "cell_type": "code",
   "execution_count": 4,
   "metadata": {
    "collapsed": false,
    "deletable": true,
    "editable": true
   },
   "outputs": [],
   "source": [
    "import sys, csv, django, os, codecs, re, fnmatch\n",
    "\n",
    "# sys.path.append('/home/max/Desktop/django/BasicBrowser/')\n",
    "#sys.path.append('/home/galm/software/django/tmv/BasicBrowser')\n",
    "sys.path.append('/home/hilj/github/tmv/BasicBrowser')\n",
    "\n",
    "import db as db\n",
    "from tmv_app.models import *\n",
    "from scoping.models import *\n",
    "from scoping.views import *\n",
    "\n",
    "from utils.utils import *\n",
    "from utils.text import *\n",
    "import xml.etree.ElementTree as ET\n",
    "import pandas as pd\n",
    "import short_url\n",
    "\n",
    "\n",
    "os.environ.setdefault(\"DJANGO_SETTINGS_MODULE\", \"BasicBrowser.settings\")\n",
    "django.setup()"
   ]
  },
  {
   "cell_type": "code",
   "execution_count": 3,
   "metadata": {
    "collapsed": true
   },
   "outputs": [],
   "source": [
    "do=DocOwnership.objects.filter(tag=650,relevant=1)"
   ]
  }
 ],
 "metadata": {
  "kernelspec": {
   "display_name": "tmvenv",
   "language": "python",
   "name": "tmvenv"
  },
  "language_info": {
   "codemirror_mode": {
    "name": "ipython",
    "version": 3
   },
   "file_extension": ".py",
   "mimetype": "text/x-python",
   "name": "python",
   "nbconvert_exporter": "python",
   "pygments_lexer": "ipython3",
   "version": "3.4.3"
  }
 },
 "nbformat": 4,
 "nbformat_minor": 2
}
